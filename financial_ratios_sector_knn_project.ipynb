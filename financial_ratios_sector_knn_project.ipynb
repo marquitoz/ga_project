{
 "cells": [
  {
   "cell_type": "markdown",
   "metadata": {},
   "source": [
    "<img src=\"./assets/DSE-Banner.jpg\" style=\"float: left; margin: 10px; height: 120px\">\n",
    "\n",
    "##  Economic Sector Classification: \n",
    "### _`KNN ` with `Scikit-Learn`_\n",
    "\n",
    "_Author: Marcos Ribeiro_"
   ]
  },
  {
   "cell_type": "markdown",
   "metadata": {},
   "source": [
    "<a id=\"goals-motivation\"></a>\n",
    "### Business Question:\n",
    "\n",
    ">_Can we use `historical financial indicators` of `S&P 500` companies to classify their `economic sector`?_\n",
    "\n",
    "### Motivation\n",
    ">_When assessing a company's performance, analysts deep dive into reported financials (balance sheet, income a cash flow statements) to build their business models._\n",
    "_This is an extremelly important step before giving an investment recommendation._\n",
    ">\n",
    ">_Most of the times, the analysis is combination of historical financial data, accounting and financial theory._\n",
    ">_In a nutshell, finance professionals would focus on the following topics as a framework:_\n",
    "1. **Profitability** \n",
    "2. **Liquidity** \n",
    "3. **Risks**\n",
    "4. **Financial Stability**\n",
    "\n",
    ">It is important to mention that reported financial ratios varies according to a company's economic sector.\n",
    ">For example, the profitability metrics of Tech companies is way different from Retail ones. This happens due to  different business rationale, strategies and products sold to name a few.\n",
    "\n",
    "### Goals | About the Dataset \n",
    ">The dataset consists of 28 financial ratios for 368 S&P500 companies from 2009 to 2018. The reported period for the ratios is the trainling twelve months at the end of every third quarter (3Q).\n",
    "\n",
    ">Before building a KNN model a feature selection using an ExtraTreesClassifier was performed for data  dimensionality reduction. \n",
    ">\n",
    ">The final step was to classify which economic sector a company belongs based on its reported financial ratios. \n",
    "- Industrials\n",
    "- Heath care\n",
    "- Information Technology\n",
    "- Consumer Discritionary\n",
    "- Consumer Staples\n",
    "- Utilities\n",
    "- Materials\n",
    "- Real Estate\n",
    "- Consumer Staples\n",
    "- Energy\n",
    "- Telecommunications\n",
    "\n",
    "> References:\n",
    "[feature selection](https://machinelearningmastery.com/feature-selection-machine-learning-python/), \n",
    "[knn overview](https://towardsdatascience.com/k-nearest-neighbor-python-2fccc47d2a55)"
   ]
  },
  {
   "cell_type": "code",
   "execution_count": 1,
   "metadata": {},
   "outputs": [],
   "source": [
    "# Importing libraries\n",
    "import pandas as pd\n",
    "import numpy as np\n",
    "import seaborn as sns\n",
    "import matplotlib.pyplot as plt\n",
    "%matplotlib inline\n",
    "np.set_printoptions(precision=5, suppress=True) # suppress scientific float notation\n",
    "\n",
    "from sklearn.neighbors import KNeighborsClassifier\n",
    "from sklearn import metrics\n",
    "from sklearn.model_selection import train_test_split\n",
    "from sklearn.metrics import classification_report, confusion_matrix\n",
    "from sklearn.model_selection import StratifiedKFold\n",
    "from yellowbrick.model_selection import CVScores\n",
    "\n",
    "# Increase default figure and font sizes for easier viewing\n",
    "plt.rcParams['figure.figsize'] = (10, 8)\n",
    "plt.rcParams['font.size'] = 2\n",
    "\n",
    "plt.style.use('fivethirtyeight')"
   ]
  },
  {
   "cell_type": "code",
   "execution_count": 2,
   "metadata": {},
   "outputs": [],
   "source": [
    "# importing dataset\n",
    "path = './datasets/'\n",
    "companies = pd.read_csv(path + 'final_companies_dataset.csv', index_col = [0])"
   ]
  },
  {
   "cell_type": "code",
   "execution_count": 3,
   "metadata": {},
   "outputs": [
    {
     "data": {
      "text/plain": [
       "(2828, 33)"
      ]
     },
     "execution_count": 3,
     "metadata": {},
     "output_type": "execute_result"
    }
   ],
   "source": [
    "# whats is the size of the dataset\n",
    "companies.shape"
   ]
  },
  {
   "cell_type": "code",
   "execution_count": 4,
   "metadata": {},
   "outputs": [
    {
     "data": {
      "text/plain": [
       "sector_y                 0\n",
       "period                   0\n",
       "company                  0\n",
       "ticker                   0\n",
       "gross_margin             0\n",
       "operating_margin         0\n",
       "net_margin               0\n",
       "roe                      0\n",
       "roa                      0\n",
       "fcf_net_income           0\n",
       "current_ratio            0\n",
       "liab_equity              0\n",
       "debt_assets              0\n",
       "pay_out_ratio            0\n",
       "net_debt_ebitda          0\n",
       "net_interest_ebitda      0\n",
       "net_debt_equity          0\n",
       "asset_turn_over          0\n",
       "free_cash_flow           0\n",
       "fcf_dividends            0\n",
       "debt_to_fcf              0\n",
       "fcf_revenues             0\n",
       "interest_coverage_fcf    0\n",
       "sg_a_ratio               0\n",
       "op_expense_ratio         0\n",
       "r_and_d_ratio            0\n",
       "cash_ratio               0\n",
       "wk_turnover              0\n",
       "ebitda_margin            0\n",
       "ebit_margin              0\n",
       "pre_tax_margin           0\n",
       "tax_to_revenues          0\n",
       "target                   0\n",
       "dtype: int64"
      ]
     },
     "execution_count": 4,
     "metadata": {},
     "output_type": "execute_result"
    }
   ],
   "source": [
    "# is there any missing values?\n",
    "companies.isnull().sum()"
   ]
  },
  {
   "cell_type": "code",
   "execution_count": 5,
   "metadata": {},
   "outputs": [],
   "source": [
    "# spliting original data with only numeric features. \n",
    "indexNames = ['sector_y', 'period', 'company', 'ticker']\n",
    "companies_2 = companies.drop(indexNames, axis = 1)"
   ]
  },
  {
   "cell_type": "markdown",
   "metadata": {},
   "source": [
    "### Feature Importance\n",
    "\n",
    "Bagged decision trees like Random Forest and Extra Trees can be used to estimate the importance of features.\n",
    "\n",
    "This class implements a meta estimator that fits a number of randomized decision trees (a.k.a. extra-trees) on various sub-samples of the dataset and uses averaging to improve the predictive accuracy and control over-fitting.\n",
    "\n",
    "[Feature Selection Article](https://machinelearningmastery.com/feature-selection-machine-learning-python/)\n",
    "\n",
    "[ExtraTreesClassifier](https://scikit-learn.org/stable/modules/generated/sklearn.ensemble.ExtraTreesClassifier.html)"
   ]
  },
  {
   "cell_type": "code",
   "execution_count": 6,
   "metadata": {},
   "outputs": [],
   "source": [
    "from sklearn.ensemble import ExtraTreesClassifier\n",
    "from sklearn.model_selection import KFold\n",
    "from sklearn.model_selection import cross_val_score"
   ]
  },
  {
   "cell_type": "code",
   "execution_count": 7,
   "metadata": {},
   "outputs": [],
   "source": [
    "# X, y features and target variable extraction\n",
    "array = companies_2.values\n",
    "X = array[1:, 0:28]\n",
    "y = array[1:,28]\n",
    "\n",
    "names = ['gross_margin', 'operating_margin', 'net_margin', 'roe', 'roa',\n",
    "       'fcf_net_income', 'current_ratio', 'liab_equity', 'debt_assets',\n",
    "       'pay_out_ratio', 'net_debt_ebitda', 'net_interest_ebitda',\n",
    "       'net_debt_equity', 'asset_turn_over', 'free_cash_flow', 'fcf_dividends',\n",
    "       'debt_to_fcf', 'fcf_revenues', 'interest_coverage_fcf', 'sg_a_ratio',\n",
    "       'op_expense_ratio', 'r_and_d_ratio', 'cash_ratio', 'wk_turnover',\n",
    "       'ebitda_margin', 'ebit_margin', 'pre_tax_margin', 'tax_to_revenues']"
   ]
  },
  {
   "cell_type": "code",
   "execution_count": 8,
   "metadata": {},
   "outputs": [
    {
     "name": "stdout",
     "output_type": "stream",
     "text": [
      "['gross_margin', 'operating_margin', 'net_margin', 'roe', 'roa', 'fcf_net_income', 'current_ratio', 'liab_equity', 'debt_assets', 'pay_out_ratio', 'net_debt_ebitda', 'net_interest_ebitda', 'net_debt_equity', 'asset_turn_over', 'free_cash_flow', 'fcf_dividends', 'debt_to_fcf', 'fcf_revenues', 'interest_coverage_fcf', 'sg_a_ratio', 'op_expense_ratio', 'r_and_d_ratio', 'cash_ratio', 'wk_turnover', 'ebitda_margin', 'ebit_margin', 'pre_tax_margin', 'tax_to_revenues']\n",
      "[0.06217 0.03281 0.02482 0.02274 0.03047 0.0173  0.04398 0.03025 0.04704\n",
      " 0.03212 0.03067 0.03275 0.02405 0.07283 0.03083 0.0249  0.01811 0.02353\n",
      " 0.02044 0.04315 0.0368  0.07576 0.0423  0.03942 0.061   0.03262 0.02244\n",
      " 0.02471]\n"
     ]
    }
   ],
   "source": [
    "# feature selection for the ratios according to its importance in finding a company's sector  \n",
    "model = ExtraTreesClassifier(n_estimators=250, random_state = 99)\n",
    "model.fit(X, y)\n",
    "print(names)\n",
    "print(model.feature_importances_)"
   ]
  },
  {
   "cell_type": "markdown",
   "metadata": {},
   "source": [
    "#### Performing a cross validation to check if Extra Trees is over/underfitting the data | CV socre = 92.4%\n",
    "\n",
    "_You need some kind of assurance that your model has got most of the patterns from the data correct, and its not picking up too much on the noise, or in other words its low on bias and variance._\n",
    "\n",
    "[cross_validation](https://towardsdatascience.com/cross-validation-in-machine-learning-72924a69872f),"
   ]
  },
  {
   "cell_type": "code",
   "execution_count": 9,
   "metadata": {},
   "outputs": [
    {
     "data": {
      "image/png": "[encoded data removed]",
      "text/plain": [
       "<Figure size 432x288 with 1 Axes>"
      ]
     },
     "metadata": {
      "needs_background": "light"
     },
     "output_type": "display_data"
    }
   ],
   "source": [
    "cv = StratifiedKFold(n_splits=10, random_state=99)\n",
    "visualizer = CVScores(model, cv=cv, scoring='f1_weighted')\n",
    "\n",
    "visualizer.fit(X, y)        # Fit the data to the visualizer\n",
    "visualizer.show(); "
   ]
  },
  {
   "cell_type": "markdown",
   "metadata": {},
   "source": [
    "#### Another approach for cross validation | CV Sore = 93.2%"
   ]
  },
  {
   "cell_type": "code",
   "execution_count": 10,
   "metadata": {},
   "outputs": [
    {
     "name": "stdout",
     "output_type": "stream",
     "text": [
      "0.9324273864120493\n"
     ]
    }
   ],
   "source": [
    "# cross validation to check if model is either over or under fitting\n",
    "kfold = KFold(n_splits = 10, random_state = 99)\n",
    "results = cross_val_score(model, X, y, cv = kfold)\n",
    "print(results.mean())"
   ]
  },
  {
   "cell_type": "code",
   "execution_count": 11,
   "metadata": {},
   "outputs": [
    {
     "data": {
      "text/html": [
       "<div>\n",
       "<style scoped>\n",
       "    .dataframe tbody tr th:only-of-type {\n",
       "        vertical-align: middle;\n",
       "    }\n",
       "\n",
       "    .dataframe tbody tr th {\n",
       "        vertical-align: top;\n",
       "    }\n",
       "\n",
       "    .dataframe thead th {\n",
       "        text-align: right;\n",
       "    }\n",
       "</style>\n",
       "<table border=\"1\" class=\"dataframe\">\n",
       "  <thead>\n",
       "    <tr style=\"text-align: right;\">\n",
       "      <th></th>\n",
       "      <th>0</th>\n",
       "    </tr>\n",
       "  </thead>\n",
       "  <tbody>\n",
       "    <tr>\n",
       "      <td>r_and_d_ratio</td>\n",
       "      <td>0.075755</td>\n",
       "    </tr>\n",
       "    <tr>\n",
       "      <td>asset_turn_over</td>\n",
       "      <td>0.072832</td>\n",
       "    </tr>\n",
       "    <tr>\n",
       "      <td>gross_margin</td>\n",
       "      <td>0.062170</td>\n",
       "    </tr>\n",
       "    <tr>\n",
       "      <td>ebitda_margin</td>\n",
       "      <td>0.061003</td>\n",
       "    </tr>\n",
       "    <tr>\n",
       "      <td>debt_assets</td>\n",
       "      <td>0.047036</td>\n",
       "    </tr>\n",
       "    <tr>\n",
       "      <td>current_ratio</td>\n",
       "      <td>0.043979</td>\n",
       "    </tr>\n",
       "    <tr>\n",
       "      <td>sg_a_ratio</td>\n",
       "      <td>0.043147</td>\n",
       "    </tr>\n",
       "    <tr>\n",
       "      <td>cash_ratio</td>\n",
       "      <td>0.042301</td>\n",
       "    </tr>\n",
       "    <tr>\n",
       "      <td>wk_turnover</td>\n",
       "      <td>0.039417</td>\n",
       "    </tr>\n",
       "    <tr>\n",
       "      <td>op_expense_ratio</td>\n",
       "      <td>0.036801</td>\n",
       "    </tr>\n",
       "  </tbody>\n",
       "</table>\n",
       "</div>"
      ],
      "text/plain": [
       "                         0\n",
       "r_and_d_ratio     0.075755\n",
       "asset_turn_over   0.072832\n",
       "gross_margin      0.062170\n",
       "ebitda_margin     0.061003\n",
       "debt_assets       0.047036\n",
       "current_ratio     0.043979\n",
       "sg_a_ratio        0.043147\n",
       "cash_ratio        0.042301\n",
       "wk_turnover       0.039417\n",
       "op_expense_ratio  0.036801"
      ]
     },
     "execution_count": 11,
     "metadata": {},
     "output_type": "execute_result"
    }
   ],
   "source": [
    "# ranking the ratios importance scoring\n",
    "features = pd.DataFrame(model.feature_importances_,names).sort_values(by = [0], ascending = False)\n",
    "features.head(10)"
   ]
  },
  {
   "cell_type": "code",
   "execution_count": 12,
   "metadata": {},
   "outputs": [],
   "source": [
    "# selecting the top 5 most important financial ratios. Threhold defined at 0.047.\n",
    "col_names = ['r_and_d_ratio', 'asset_turn_over', 'gross_margin', 'ebitda_margin', 'debt_assets']\n",
    "importance_df = pd.DataFrame(companies_2,columns=col_names)"
   ]
  },
  {
   "cell_type": "markdown",
   "metadata": {},
   "source": [
    "### Running a KNN model for economic sector classification"
   ]
  },
  {
   "cell_type": "code",
   "execution_count": 13,
   "metadata": {},
   "outputs": [],
   "source": [
    "# np array for independent features or X\n",
    "X_1 = importance_df.values[0:, 0:6]"
   ]
  },
  {
   "cell_type": "code",
   "execution_count": 14,
   "metadata": {},
   "outputs": [],
   "source": [
    "# np array for the target dependent variable or y\n",
    "y_1 = companies_2.values[0:,28].astype(int)"
   ]
  },
  {
   "cell_type": "code",
   "execution_count": 15,
   "metadata": {},
   "outputs": [],
   "source": [
    "# test_size: what proportion of original data is used for test set\n",
    "X_train, X_test, y_train, y_test = train_test_split(X_1, y_1, random_state=99)"
   ]
  },
  {
   "cell_type": "code",
   "execution_count": 16,
   "metadata": {},
   "outputs": [
    {
     "data": {
      "text/plain": [
       "KNeighborsClassifier(algorithm='auto', leaf_size=30, metric='minkowski',\n",
       "                     metric_params=None, n_jobs=None, n_neighbors=5, p=2,\n",
       "                     weights='uniform')"
      ]
     },
     "execution_count": 16,
     "metadata": {},
     "output_type": "execute_result"
    }
   ],
   "source": [
    "knn = KNeighborsClassifier(n_neighbors=5)\n",
    "knn.fit(X_train, y_train)"
   ]
  },
  {
   "cell_type": "code",
   "execution_count": 17,
   "metadata": {},
   "outputs": [
    {
     "name": "stdout",
     "output_type": "stream",
     "text": [
      "0.6944837340876945\n"
     ]
    }
   ],
   "source": [
    "y_pred_class = knn.predict(X_test)\n",
    "print((metrics.accuracy_score(y_test, y_pred_class)))"
   ]
  },
  {
   "cell_type": "code",
   "execution_count": 19,
   "metadata": {},
   "outputs": [
    {
     "name": "stdout",
     "output_type": "stream",
     "text": [
      "0.7308610881387364\n"
     ]
    }
   ],
   "source": [
    "# cross validation to check if model is either over or under fitting \n",
    "kfold = KFold(n_splits = 10, random_state = 99)\n",
    "results = cross_val_score(knn, X_1, y_1, cv = kfold)\n",
    "print(results.mean())"
   ]
  },
  {
   "cell_type": "markdown",
   "metadata": {},
   "source": [
    "#### Printing the confusion matrix and classification report.\n",
    "The models seems to be performning well with acceptable TP (71%) and TN (69%) ratios.\n",
    "\n",
    ">**Precision**: Precision is the ability of a classiifer not to label an instance positive that is actually negative. Defined as as the ratio of true positives to the sum of true and false positives.\n",
    ">\n",
    ">_\"for all instances classified positive, what percent was correct?”_\n",
    "\n",
    ">**Recall**: Recall is the ability of a classifier to find all positive instances. For each class it is defined as the ratio of true positives to the sum of true positives and false negatives.\n",
    ">\n",
    ">_\"For all instances that were actually positive, what percent was classified correctly?”_\n",
    "\n",
    ">**F1 Score** The F1 score is a weighted harmonic mean of precision and recall such that the best score is 1.0 and the worst is 0.0.\n",
    ">\n",
    ">_\"As a rule of thumb, the weighted average of F1 should be used to compare classifier models, not global accuracy.\"_\n",
    "\n",
    "[classification report](https://www.scikit-yb.org/en/latest/api/classifier/classification_report.html)\n"
   ]
  },
  {
   "cell_type": "markdown",
   "metadata": {},
   "source": [
    "### Confusion Matrix Labels\n",
    "\n",
    "| Label | Sector |\n",
    "| ---    | ---     |\n",
    "| 0 | Industrials |\n",
    "| 1 | Heath Care | \n",
    "| 2 | Information Technology| \n",
    "| 3 | Consumer Discritionary |\n",
    "| 4 | Consumer Staples | \n",
    "| 5 | Utilities |\n",
    "| 6 | Materials |\n",
    "| 7 | Real Estate |\n",
    "| 8 | Energy |\n",
    "| 9 | Telecom |"
   ]
  },
  {
   "cell_type": "code",
   "execution_count": 20,
   "metadata": {},
   "outputs": [
    {
     "name": "stdout",
     "output_type": "stream",
     "text": [
      "[[ 66   2   3   9   1   3   0   3   0   0]\n",
      " [  4  57   7   7   2   1   0   2   1   1]\n",
      " [  7  15 101   7   0   1   0   2   0   0]\n",
      " [ 24   1   1  91   3   3   0   3   1   0]\n",
      " [  3   0   0   2  44   0   0   0   1   0]\n",
      " [ 13   4   2   5   1  13   0   3   2   0]\n",
      " [  1   0   0   3   0   0  52   0   1   0]\n",
      " [ 12   7   4  10   2   1   0  31   2   0]\n",
      " [  9   3   0   2   2   2   1   2  34   0]\n",
      " [  1   0   0   0   1   0   0   0   0   2]]\n",
      "              precision    recall  f1-score   support\n",
      "\n",
      "           0       0.47      0.76      0.58        87\n",
      "           1       0.64      0.70      0.67        82\n",
      "           2       0.86      0.76      0.80       133\n",
      "           3       0.67      0.72      0.69       127\n",
      "           4       0.79      0.88      0.83        50\n",
      "           5       0.54      0.30      0.39        43\n",
      "           6       0.98      0.91      0.95        57\n",
      "           7       0.67      0.45      0.54        69\n",
      "           8       0.81      0.62      0.70        55\n",
      "           9       0.67      0.50      0.57         4\n",
      "\n",
      "    accuracy                           0.69       707\n",
      "   macro avg       0.71      0.66      0.67       707\n",
      "weighted avg       0.71      0.69      0.69       707\n",
      "\n"
     ]
    }
   ],
   "source": [
    "print(confusion_matrix(y_test, y_pred_class))\n",
    "print(classification_report(y_test, y_pred_class))"
   ]
  },
  {
   "cell_type": "markdown",
   "metadata": {},
   "source": [
    "<a id=\"tuning-a-knn-model\"></a>\n",
    "## Tuning a KNN Model\n",
    "- Searching for the \"best\" value of K.\n",
    "- Original K set at 5 "
   ]
  },
  {
   "cell_type": "code",
   "execution_count": 21,
   "metadata": {},
   "outputs": [],
   "source": [
    "# Calculate TRAINING ERROR and TESTING ERROR for K=1 through 100\n",
    "\n",
    "k_range = list(range(1, 101))\n",
    "training_error = []\n",
    "testing_error = []\n",
    "\n",
    "# Find test accuracy for all values of K between 1 and 100 (inclusive)\n",
    "for k in k_range:\n",
    "\n",
    "    # Instantiate the model with the current K value\n",
    "    knn = KNeighborsClassifier(n_neighbors=k)\n",
    "    knn.fit(X_train, y_train)\n",
    "    \n",
    "    # Calculate training error (error = 1 - accuracy)\n",
    "    y_pred_class = knn.predict(X_1)\n",
    "    training_accuracy = metrics.accuracy_score(y_1, y_pred_class)\n",
    "    training_error.append(1 - training_accuracy)\n",
    "    \n",
    "    # Calculate testing error\n",
    "    y_pred_class = knn.predict(X_test)\n",
    "    testing_accuracy = metrics.accuracy_score(y_test, y_pred_class)\n",
    "    testing_error.append(1 - testing_accuracy)"
   ]
  },
  {
   "cell_type": "code",
   "execution_count": 22,
   "metadata": {},
   "outputs": [
    {
     "data": {
      "text/html": [
       "<div>\n",
       "<style scoped>\n",
       "    .dataframe tbody tr th:only-of-type {\n",
       "        vertical-align: middle;\n",
       "    }\n",
       "\n",
       "    .dataframe tbody tr th {\n",
       "        vertical-align: top;\n",
       "    }\n",
       "\n",
       "    .dataframe thead th {\n",
       "        text-align: right;\n",
       "    }\n",
       "</style>\n",
       "<table border=\"1\" class=\"dataframe\">\n",
       "  <thead>\n",
       "    <tr style=\"text-align: right;\">\n",
       "      <th></th>\n",
       "      <th>training error</th>\n",
       "      <th>testing error</th>\n",
       "    </tr>\n",
       "    <tr>\n",
       "      <th>K</th>\n",
       "      <th></th>\n",
       "      <th></th>\n",
       "    </tr>\n",
       "  </thead>\n",
       "  <tbody>\n",
       "    <tr>\n",
       "      <td>1</td>\n",
       "      <td>0.061528</td>\n",
       "      <td>0.246110</td>\n",
       "    </tr>\n",
       "    <tr>\n",
       "      <td>3</td>\n",
       "      <td>0.160537</td>\n",
       "      <td>0.258840</td>\n",
       "    </tr>\n",
       "    <tr>\n",
       "      <td>2</td>\n",
       "      <td>0.162306</td>\n",
       "      <td>0.295615</td>\n",
       "    </tr>\n",
       "    <tr>\n",
       "      <td>4</td>\n",
       "      <td>0.197666</td>\n",
       "      <td>0.295615</td>\n",
       "    </tr>\n",
       "    <tr>\n",
       "      <td>5</td>\n",
       "      <td>0.213225</td>\n",
       "      <td>0.305516</td>\n",
       "    </tr>\n",
       "  </tbody>\n",
       "</table>\n",
       "</div>"
      ],
      "text/plain": [
       "   training error  testing error\n",
       "K                               \n",
       "1        0.061528       0.246110\n",
       "3        0.160537       0.258840\n",
       "2        0.162306       0.295615\n",
       "4        0.197666       0.295615\n",
       "5        0.213225       0.305516"
      ]
     },
     "execution_count": 22,
     "metadata": {},
     "output_type": "execute_result"
    }
   ],
   "source": [
    "# Create a DataFrame of K, training error, and testing error.\n",
    "column_dict = {'K': k_range, 'training error':training_error, 'testing error':testing_error}\n",
    "df = pd.DataFrame(column_dict).set_index('K').sort_index(ascending=False)\n",
    "df.sort_values('testing error').head()"
   ]
  },
  {
   "cell_type": "code",
   "execution_count": 23,
   "metadata": {},
   "outputs": [
    {
     "data": {
      "image/png": "[encoded data removed]",
      "text/plain": [
       "<Figure size 720x288 with 1 Axes>"
      ]
     },
     "metadata": {
      "needs_background": "light"
     },
     "output_type": "display_data"
    }
   ],
   "source": [
    "# Plot the relationship between K (HIGH TO LOW) and both TRAINING ERROR and TESTING ERROR\n",
    "plt.rcParams[\"figure.figsize\"] = [10,4]\n",
    "df.plot()\n",
    "plt.xlabel('Value of K for KNN')\n",
    "plt.ylabel('Error (lower is better)');"
   ]
  },
  {
   "cell_type": "markdown",
   "metadata": {},
   "source": [
    "## Best K with lowest combination of test and training errors is K=3 "
   ]
  },
  {
   "cell_type": "code",
   "execution_count": 24,
   "metadata": {},
   "outputs": [
    {
     "name": "stdout",
     "output_type": "stream",
     "text": [
      "0.7411598302687411\n"
     ]
    }
   ],
   "source": [
    "# Instantiate the model with the best-known parameters\n",
    "knn = KNeighborsClassifier(n_neighbors=3)\n",
    "\n",
    "# Re-train the model with X and y (not X_train and y_train).\n",
    "knn.fit(X_train, y_train)\n",
    "\n",
    "y_pred_class = knn.predict(X_test)\n",
    "print((metrics.accuracy_score(y_test, y_pred_class)))"
   ]
  },
  {
   "cell_type": "markdown",
   "metadata": {},
   "source": [
    "### Confusion Matrix Labels\n",
    "\n",
    "| Label | Sector |\n",
    "| ---    | ---     |\n",
    "| 0 | Industrials |\n",
    "| 1 | Heath Care | \n",
    "| 2 | Information Technology| \n",
    "| 3 | Consumer Discritionary |\n",
    "| 4 | Consumer Staples | \n",
    "| 5 | Utilities |\n",
    "| 6 | Materials |\n",
    "| 7 | Real Estate |\n",
    "| 8 | Energy |\n",
    "| 9 | Telecom |"
   ]
  },
  {
   "cell_type": "code",
   "execution_count": 25,
   "metadata": {},
   "outputs": [
    {
     "name": "stdout",
     "output_type": "stream",
     "text": [
      "[[ 74   0   2   7   1   2   0   1   0   0]\n",
      " [  4  60   7   2   2   0   0   4   2   1]\n",
      " [  9  13 104   4   0   2   0   1   0   0]\n",
      " [ 23   1   2  93   1   2   0   3   2   0]\n",
      " [  4   0   0   1  44   0   0   0   1   0]\n",
      " [ 13   5   1   4   0  18   0   1   1   0]\n",
      " [  1   0   0   3   0   0  52   0   1   0]\n",
      " [ 13   8   4   4   1   1   0  37   1   0]\n",
      " [  5   3   0   3   0   1   1   2  40   0]\n",
      " [  1   0   0   0   1   0   0   0   0   2]]\n",
      "              precision    recall  f1-score   support\n",
      "\n",
      "           0       0.50      0.85      0.63        87\n",
      "           1       0.67      0.73      0.70        82\n",
      "           2       0.87      0.78      0.82       133\n",
      "           3       0.77      0.73      0.75       127\n",
      "           4       0.88      0.88      0.88        50\n",
      "           5       0.69      0.42      0.52        43\n",
      "           6       0.98      0.91      0.95        57\n",
      "           7       0.76      0.54      0.63        69\n",
      "           8       0.83      0.73      0.78        55\n",
      "           9       0.67      0.50      0.57         4\n",
      "\n",
      "    accuracy                           0.74       707\n",
      "   macro avg       0.76      0.71      0.72       707\n",
      "weighted avg       0.77      0.74      0.74       707\n",
      "\n"
     ]
    }
   ],
   "source": [
    "print(confusion_matrix(y_test, y_pred_class))\n",
    "print(classification_report(y_test, y_pred_class))"
   ]
  }
 ],
 "metadata": {
  "kernelspec": {
   "display_name": "Python 3",
   "language": "python",
   "name": "python3"
  },
  "language_info": {
   "codemirror_mode": {
    "name": "ipython",
    "version": 3
   },
   "file_extension": ".py",
   "mimetype": "text/x-python",
   "name": "python",
   "nbconvert_exporter": "python",
   "pygments_lexer": "ipython3",
   "version": "3.7.4"
  }
 },
 "nbformat": 4,
 "nbformat_minor": 2
}
